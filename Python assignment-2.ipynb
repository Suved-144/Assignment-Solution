{
 "cells": [
  {
   "cell_type": "code",
   "execution_count": 1,
   "metadata": {},
   "outputs": [
    {
     "name": "stdout",
     "output_type": "stream",
     "text": [
      "*\n",
      "**\n",
      "***\n",
      "****\n",
      "*****\n",
      "****\n",
      "***\n",
      "**\n",
      "*\n",
      "\n"
     ]
    }
   ],
   "source": [
    "#assignment 2\n",
    "#Q1\n",
    "\n",
    "n=5\n",
    "for i in range(n):\n",
    "    print('*'*(i+1))\n",
    "for j in range(n):\n",
    "    print('*'*(n-1-j))\n",
    "    \n"
   ]
  },
  {
   "cell_type": "code",
   "execution_count": 2,
   "metadata": {},
   "outputs": [
    {
     "name": "stdout",
     "output_type": "stream",
     "text": [
      "Enter the name to revers: ineuron\n",
      "Reverse of the given name:  norueni\n"
     ]
    }
   ],
   "source": [
    "#assignment 2\n",
    "#Q2\n",
    "n = input('Enter the name to revers: ')\n",
    "n = n[::-1]\n",
    "print('Reverse of the given name: ',n)"
   ]
  },
  {
   "cell_type": "code",
   "execution_count": 3,
   "metadata": {},
   "outputs": [
    {
     "name": "stdout",
     "output_type": "stream",
     "text": [
      "Enter the name to revers: suved\n",
      "Reverse of the given name:  devus\n"
     ]
    }
   ],
   "source": [
    "n = input('Enter the name to revers: ')\n",
    "n = n[::-1]\n",
    "print('Reverse of the given name: ',n)"
   ]
  },
  {
   "cell_type": "code",
   "execution_count": null,
   "metadata": {},
   "outputs": [],
   "source": []
  }
 ],
 "metadata": {
  "kernelspec": {
   "display_name": "Python 3",
   "language": "python",
   "name": "python3"
  },
  "language_info": {
   "codemirror_mode": {
    "name": "ipython",
    "version": 3
   },
   "file_extension": ".py",
   "mimetype": "text/x-python",
   "name": "python",
   "nbconvert_exporter": "python",
   "pygments_lexer": "ipython3",
   "version": "3.7.6"
  }
 },
 "nbformat": 4,
 "nbformat_minor": 4
}
