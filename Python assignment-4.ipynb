{
 "cells": [
  {
   "cell_type": "code",
   "execution_count": 8,
   "metadata": {},
   "outputs": [
    {
     "name": "stdout",
     "output_type": "stream",
     "text": [
      "Area of the Triangle is 6.928203230275509\n"
     ]
    }
   ],
   "source": [
    "#finding area of triangle usin class inheritence\n",
    "#Assignment4 Q1.1\n",
    "class Triangle:\n",
    "    def __init__(self, a, b, c):\n",
    "        self.a = a\n",
    "        self.b = b\n",
    "        self.c = c\n",
    "    def get_perimeter(self):\n",
    "        return (self.a + self.b + self.c)/ 2\n",
    "class Area(Triangle):\n",
    "    def __init__(self, s, *args, **kwargs):\n",
    "        super(Area, self).__init__(*args, **kwargs)\n",
    "        self.s = s\n",
    "    def __str__(self):\n",
    "        return \"Area of the Triangle is {}\".format(((self.s) * (self.s - self.a) * (self.s - self.b) * (self.s - self.c))** 0.5) \n",
    "\n",
    "    \n",
    "t = Triangle(4,4,4)\n",
    "t = Area(t.get_perimeter(),4,4,4)\n",
    "print(t)"
   ]
  },
  {
   "cell_type": "code",
   "execution_count": 10,
   "metadata": {},
   "outputs": [
    {
     "name": "stdout",
     "output_type": "stream",
     "text": [
      "Enter a list of words: Those cats and dogs are my pets\n",
      "Number: 3\n",
      "Those\n",
      "cats\n",
      "dogs\n",
      "pets\n"
     ]
    }
   ],
   "source": [
    "\n",
    "#Assignment4 Q1.2\n",
    "def filter_long_words(words,number):\n",
    "    words = words.split(\" \")\n",
    "    for i in range(len(words)):\n",
    "        if len(words[i]) >  number:\n",
    "            print(words[i])\n",
    " \n",
    "words = input(\"Enter a list of words: \")\n",
    "number = int(input(\"Number: \")) \n",
    "filter_long_words(words,number)"
   ]
  },
  {
   "cell_type": "code",
   "execution_count": 11,
   "metadata": {},
   "outputs": [
    {
     "name": "stdout",
     "output_type": "stream",
     "text": [
      "Enter the list of words: Hi hello sami\n",
      "list of words:  ['Hi', 'hello', 'sami']\n",
      "List of wordlength: [2, 5, 4]\n"
     ]
    }
   ],
   "source": [
    "#list of integers representing the lengths of the corresponding words.\n",
    "#Assignment4 Q2.1\n",
    "\n",
    "Word = input(\"Enter the list of words: \")\n",
    "Words = Word.split()\n",
    "word_num = []\n",
    " \n",
    "for i in range(len(Words)):\n",
    "    word_num.append(len(Words[i]))\n",
    "print (\"list of words: \", Words)    \n",
    "print (\"List of wordlength:\",word_num)"
   ]
  },
  {
   "cell_type": "code",
   "execution_count": 12,
   "metadata": {},
   "outputs": [
    {
     "name": "stdout",
     "output_type": "stream",
     "text": [
      "False\n",
      "True\n"
     ]
    }
   ],
   "source": [
    "#Write a Python function which takes a character (i.e. a string of length 1) and returns True if\n",
    "#it is a vowel, False otherwise.\n",
    "#Assignment4 Q2.2\n",
    "\n",
    "def is_vowel(char):\n",
    "    all_vowels = 'aeiou'\n",
    "    return char in all_vowels\n",
    "print(is_vowel('c'))\n",
    "print(is_vowel('e'))"
   ]
  },
  {
   "cell_type": "code",
   "execution_count": null,
   "metadata": {},
   "outputs": [],
   "source": []
  }
 ],
 "metadata": {
  "kernelspec": {
   "display_name": "Python 3",
   "language": "python",
   "name": "python3"
  },
  "language_info": {
   "codemirror_mode": {
    "name": "ipython",
    "version": 3
   },
   "file_extension": ".py",
   "mimetype": "text/x-python",
   "name": "python",
   "nbconvert_exporter": "python",
   "pygments_lexer": "ipython3",
   "version": "3.7.6"
  }
 },
 "nbformat": 4,
 "nbformat_minor": 4
}
